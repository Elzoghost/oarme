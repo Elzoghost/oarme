{
 "cells": [
  {
   "cell_type": "markdown",
   "metadata": {},
   "source": [
    "security-tool/\n",
    "│\n",
    "├── src/\n",
    "│   ├── __init__.py\n",
    "│   ├── main.py                # Point d'entrée principal de l'application\n",
    "│   ├── ingestion.py           # Module pour l'ingestion de données\n",
    "│   ├── vulnerability.py       # Module pour les tests de vulnérabilité\n",
    "│   ├── ssh_tests.py           # Module pour les tests SSH\n",
    "│   ├── xss_tests.py           # Module pour les tests XSS\n",
    "│   └── utils.py               # Fonctions utilitaires\n",
    "│\n",
    "├── tests/\n",
    "│   ├── __init__.py\n",
    "│   ├── test_ingestion.py      # Tests unitaires pour l'ingestion\n",
    "│   ├── test_vulnerability.py  # Tests unitaires pour les vulnérabilités\n",
    "│   ├── test_ssh.py            # Tests unitaires pour SSH\n",
    "│   └── test_xss.py            # Tests unitaires pour XSS\n",
    "│\n",
    "├── config/\n",
    "│   ├── __init__.py\n",
    "│   └── config.py              # Fichier de configuration\n",
    "│\n",
    "├── data/\n",
    "│   └── sample_data.csv        # Exemple de données pour les tests\n",
    "│\n",
    "├── docs/\n",
    "│   └── README.md              # Documentation du projet\n",
    "│\n",
    "├── requirements.txt           # Fichier des dépendances\n",
    "│\n",
    "└── LICENSE                    # Fichier de licence\n"
   ]
  }
 ],
 "metadata": {
  "language_info": {
   "name": "python"
  }
 },
 "nbformat": 4,
 "nbformat_minor": 2
}
